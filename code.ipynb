{
 "cells": [
  {
   "cell_type": "code",
   "execution_count": 19,
   "metadata": {},
   "outputs": [],
   "source": [
    "import PIL\n",
    "import os\n",
    "import os.path\n",
    "from PIL import Image\n",
    "\n",
    "f = r'F:\\sem 8 project\\data\\test\\notinfected'\n",
    "for file in os.listdir(f):\n",
    "    f_img = f+\"/\"+file\n",
    "    img = Image.open(f_img)\n",
    "    img = img.resize((250,250))\n",
    "    img.save(f_img) "
   ]
  },
  {
   "cell_type": "code",
   "execution_count": 8,
   "metadata": {},
   "outputs": [],
   "source": [
    "\n",
    "#Guassian low pass filter  \n",
    "\n",
    "\n",
    "from PIL import Image, ImageFilter\n",
    "image = Image.open(r\"F:/sem 8 pcos/pcos-sem-8/data/train/infected/img2.jpg\")\n",
    "# Cropping the image\n",
    "smol_image = image.crop((0,0, 200, 500))\n",
    "# Blurring on the cropped image\n",
    "blurred_image = smol_image.filter(ImageFilter.GaussianBlur)\n",
    "# Pasting the blurred image on the original image\n",
    "image.paste(blurred_image, (0,0))\n",
    "# Displaying the image\n",
    "image.save('output.png')"
   ]
  },
  {
   "cell_type": "code",
   "execution_count": 7,
   "metadata": {},
   "outputs": [],
   "source": [
    "import cv2\n",
    "import pandas as pd\n",
    "import matplotlib as plt\n",
    "import matplotlib.pyplot as plt\n",
    "from matplotlib import pyplot as matplot\n",
    "from PIL import Image as im\n",
    "img = cv2.imread('F:/sem 8 pcos/pcos-sem-8/data/train/infected/img_0_4667.jpg')\n",
    "cv2.imshow(\"origna image\",img)\n",
    "# apply a Gaussian blur with a 7x7 kernel to the image to smooth it,\n",
    "# useful when reducing high frequency noise\n",
    "# blurred = cv2.GaussianBlur(img, (3,3), 0)\n",
    "# plt.imshow(cv2.cvtColor(blurred, cv2.COLOR_BGR2RGB))\n",
    "# plt.show()\n",
    "blurred0 = cv2.GaussianBlur(img, (5,5), 0)\n",
    "blurred1 = cv2.GaussianBlur(img, (5,5), 1)\n",
    "blurred2 = cv2.GaussianBlur(img, (5,5), 2)\n",
    "blurred3 = cv2.GaussianBlur(img, (5,5), 3)\n",
    "blurred4 = cv2.GaussianBlur(img, (5,5), 4)\n",
    "blurred5 = cv2.GaussianBlur(img, (5,5), 5)\n",
    "\n",
    "# cv2.imshow(\"gaussian filter 0\",blurred0)\n",
    "# cv2.imshow(\"gaussian filter 1\",blurred1)\n",
    "# cv2.imshow(\"gaussian filter 2\",blurred2)\n",
    "# cv2.imshow(\"gaussian filter 3\",blurred3)\n",
    "# cv2.imshow(\"gaussian filter 4\",blurred4)\n",
    "cv2.imshow(\"gaussian filter 5\",blurred5)\n",
    "\n",
    "\n",
    "\n",
    "# plt.imshow(cv2.cvtColor(blurred1, cv2.COLOR_BGR2RGB))\n",
    "# plt.show()\n",
    "# blurred2= cv2.GaussianBlur(img, (7,7), 0)\n",
    "# plt.imshow(cv2.cvtColor(blurred2, cv2.COLOR_BGR2RGB))\n",
    "# plt.show()\n",
    "cv2.waitKey(0)\n",
    "blurred5=im.fromarray(blurred5)\n",
    "blurred5.save(\"blurred5.png\")"
   ]
  },
  {
   "attachments": {},
   "cell_type": "markdown",
   "metadata": {},
   "source": [
    "multi otsu thresholding"
   ]
  },
  {
   "cell_type": "code",
   "execution_count": 10,
   "metadata": {},
   "outputs": [],
   "source": [
    "import cv2\n",
    "import numpy as np\n",
    "from PIL import Image\n",
    "\n",
    "img = cv2.imread(\"F:/sem 8 pcos/pcos-sem-8/blurred5.png\")\n",
    "\n",
    "\n",
    "img = cv2.cvtColor(np.array(img), cv2.COLOR_BGR2GRAY)\n",
    "\n",
    "ret, thresh1 = cv2.threshold(img, 120, 255, cv2.THRESH_BINARY)\n",
    "ret, thresh2 = cv2.threshold(img, 120, 255, cv2.THRESH_BINARY_INV)\n",
    "ret, thresh3 = cv2.threshold(img, 120, 255, cv2.THRESH_TRUNC)\n",
    "ret, thresh4 = cv2.threshold(img, 120, 255, cv2.THRESH_TOZERO)\n",
    "ret, thresh5 = cv2.threshold(img, 120, 255, cv2.THRESH_TOZERO_INV)\n",
    "\n",
    "# cv2.imshow('Binary Threshold', thresh1)\n",
    "cv2.imshow('Binary Threshold Inverted', thresh2)\n",
    "# cv2.imshow('Truncated Threshold', thresh3)\n",
    "# cv2.imshow('Set to 0', thresh4)\n",
    "# cv2.imshow('Set to 0 Inverted', thresh5)\n",
    "\t\n",
    "if cv2.waitKey(0) & 0xff == 27:\n",
    "\tcv2.destroyAllWindows()"
   ]
  }
 ],
 "metadata": {
  "kernelspec": {
   "display_name": "Python 3.11.0 64-bit",
   "language": "python",
   "name": "python3"
  },
  "language_info": {
   "codemirror_mode": {
    "name": "ipython",
    "version": 3
   },
   "file_extension": ".py",
   "mimetype": "text/x-python",
   "name": "python",
   "nbconvert_exporter": "python",
   "pygments_lexer": "ipython3",
   "version": "3.11.0"
  },
  "orig_nbformat": 4,
  "vscode": {
   "interpreter": {
    "hash": "5f80c455da1dc101d9f66a16923589bd6dbb3429340af280f1efed2f72025e97"
   }
  }
 },
 "nbformat": 4,
 "nbformat_minor": 2
}
